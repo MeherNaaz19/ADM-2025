{
  "nbformat": 4,
  "nbformat_minor": 0,
  "metadata": {
    "colab": {
      "provenance": [],
      "authorship_tag": "ABX9TyM7XYdrz5xLsAnycSvBiQEs",
      "include_colab_link": true
    },
    "kernelspec": {
      "name": "python3",
      "display_name": "Python 3"
    },
    "language_info": {
      "name": "python"
    }
  },
  "cells": [
    {
      "cell_type": "markdown",
      "metadata": {
        "id": "view-in-github",
        "colab_type": "text"
      },
      "source": [
        "<a href=\"https://colab.research.google.com/github/MeherNaaz19/ADM-2025/blob/main/Lab06_1902_B_09.ipynb\" target=\"_parent\"><img src=\"https://colab.research.google.com/assets/colab-badge.svg\" alt=\"Open In Colab\"/></a>"
      ]
    },
    {
      "cell_type": "markdown",
      "source": [
        "# **LAB-06**"
      ],
      "metadata": {
        "id": "VUob3zeUB3Sv"
      }
    },
    {
      "cell_type": "markdown",
      "source": [
        "**1. Data Encoding**"
      ],
      "metadata": {
        "id": "4nZItTT9O_Vo"
      }
    },
    {
      "cell_type": "code",
      "execution_count": 2,
      "metadata": {
        "id": "7FZzXu9SBXlJ"
      },
      "outputs": [],
      "source": [
        "import pandas as pd\n",
        "from sklearn.preprocessing import LabelEncoder, OneHotEncoder"
      ]
    },
    {
      "cell_type": "code",
      "source": [
        "# Example data\n",
        "data = {'Category': ['A', 'B', 'C', 'A', 'B']}\n",
        "df = pd.DataFrame(data)"
      ],
      "metadata": {
        "id": "ePNwgJGiCGE-"
      },
      "execution_count": 3,
      "outputs": []
    },
    {
      "cell_type": "code",
      "source": [
        "# Label Encoding\n",
        "label_encoder = LabelEncoder()\n",
        "df['Label_Encoded'] = label_encoder.fit_transform(df['Category'])"
      ],
      "metadata": {
        "id": "6cIgMqAKCH2w"
      },
      "execution_count": 4,
      "outputs": []
    },
    {
      "cell_type": "code",
      "source": [
        "# One-hot Encoding\n",
        "one_hot_encoded = pd.get_dummies(df['Category'], prefix='Category')\n",
        "df = pd.concat([df, one_hot_encoded], axis=1)"
      ],
      "metadata": {
        "id": "b65bePjQCMnG"
      },
      "execution_count": 5,
      "outputs": []
    },
    {
      "cell_type": "code",
      "source": [
        "print(df)"
      ],
      "metadata": {
        "colab": {
          "base_uri": "https://localhost:8080/"
        },
        "id": "e9P5UzTBCRHW",
        "outputId": "09b43226-227d-40e5-8d6f-fc2dcbc08ada"
      },
      "execution_count": 6,
      "outputs": [
        {
          "output_type": "stream",
          "name": "stdout",
          "text": [
            "  Category  Label_Encoded  Category_A  Category_B  Category_C\n",
            "0        A              0        True       False       False\n",
            "1        B              1       False        True       False\n",
            "2        C              2       False       False        True\n",
            "3        A              0        True       False       False\n",
            "4        B              1       False        True       False\n"
          ]
        }
      ]
    },
    {
      "cell_type": "markdown",
      "source": [
        "**2. Creating Derived Columns**"
      ],
      "metadata": {
        "id": "KveTr6neCzKR"
      }
    },
    {
      "cell_type": "code",
      "source": [
        "from datetime import datetime"
      ],
      "metadata": {
        "id": "tOU3iqHhC288"
      },
      "execution_count": 13,
      "outputs": []
    },
    {
      "cell_type": "code",
      "source": [
        "# Example data\n",
        "data = {'Name': ['Alice', 'Bob'], 'Date_of_Birth': ['1990-05-14', '1985-08-23']}\n",
        "df = pd.DataFrame(data)"
      ],
      "metadata": {
        "id": "cccW_A5qC6se"
      },
      "execution_count": 14,
      "outputs": []
    },
    {
      "cell_type": "code",
      "source": [
        "# Convert Date_of_Birth to datetime\n",
        "df['Date_of_Birth'] = pd.to_datetime(df['Date_of_Birth'])"
      ],
      "metadata": {
        "id": "N0r5JKrZC9l4"
      },
      "execution_count": 15,
      "outputs": []
    },
    {
      "cell_type": "code",
      "source": [
        "# Calculate Age\n",
        "current_year = datetime.now().year\n",
        "df['Age'] = current_year - df['Date_of_Birth'].dt.year"
      ],
      "metadata": {
        "id": "AwvEvUaLDBk0"
      },
      "execution_count": 16,
      "outputs": []
    },
    {
      "cell_type": "code",
      "source": [
        "print(df)"
      ],
      "metadata": {
        "colab": {
          "base_uri": "https://localhost:8080/"
        },
        "id": "GVJhe29ODCSG",
        "outputId": "36827fbd-2d67-4419-e21d-d18e56df63af"
      },
      "execution_count": 10,
      "outputs": [
        {
          "output_type": "stream",
          "name": "stdout",
          "text": [
            "  Category  Value\n",
            "0        A     10\n",
            "1        A     20\n",
            "2        B     10\n",
            "3        B     30\n",
            "4        C     40\n"
          ]
        }
      ]
    },
    {
      "cell_type": "markdown",
      "source": [
        "**3. Grouping and Aggregating Data**"
      ],
      "metadata": {
        "id": "VUiEnctIDHoj"
      }
    },
    {
      "cell_type": "code",
      "source": [
        "# Example data\n",
        "data = {'Category': ['A', 'A', 'B', 'B', 'C'],'Value': [10, 20, 10, 30, 40]}\n",
        "df = pd.DataFrame(data)"
      ],
      "metadata": {
        "id": "N_s6IxdIDKVJ"
      },
      "execution_count": 7,
      "outputs": []
    },
    {
      "cell_type": "code",
      "source": [
        "# Group by and aggregate\n",
        "grouped = df.groupby('Category').agg({'Value': ['sum', 'mean']})\n",
        "print(\"Grouped Data:\\n\", grouped)"
      ],
      "metadata": {
        "colab": {
          "base_uri": "https://localhost:8080/"
        },
        "id": "TV6qX3UqDkuw",
        "outputId": "1c3edaaf-f5a2-4a5c-df99-1e92621f473a"
      },
      "execution_count": 8,
      "outputs": [
        {
          "output_type": "stream",
          "name": "stdout",
          "text": [
            "Grouped Data:\n",
            "          Value      \n",
            "           sum  mean\n",
            "Category            \n",
            "A           30  15.0\n",
            "B           40  20.0\n",
            "C           40  40.0\n"
          ]
        }
      ]
    },
    {
      "cell_type": "code",
      "source": [
        "# Pivot table\n",
        "pivot = df.pivot_table(index='Category', values='Value', aggfunc=['sum',\n",
        "'mean'])\n",
        "print(\"\\nPivot Table:\\n\", pivot)"
      ],
      "metadata": {
        "colab": {
          "base_uri": "https://localhost:8080/"
        },
        "id": "9pnhPDmLDlnz",
        "outputId": "067f9d31-65c6-4d44-cfb4-ebbd6015db70"
      },
      "execution_count": 9,
      "outputs": [
        {
          "output_type": "stream",
          "name": "stdout",
          "text": [
            "\n",
            "Pivot Table:\n",
            "            sum  mean\n",
            "         Value Value\n",
            "Category            \n",
            "A           30  15.0\n",
            "B           40  20.0\n",
            "C           40  40.0\n"
          ]
        }
      ]
    }
  ]
}